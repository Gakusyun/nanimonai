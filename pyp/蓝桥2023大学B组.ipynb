{
 "cells": [
  {
   "cell_type": "code",
   "execution_count": 4,
   "metadata": {},
   "outputs": [
    {
     "name": "stdout",
     "output_type": "stream",
     "text": [
      "12445048\n"
     ]
    }
   ],
   "source": [
    "#T.A\n",
    "count=0\n",
    "for i in range(12345678,98765432):\n",
    "    flag21,flag0,flag22,flag3=False,False,False,False\n",
    "    for j in str(i):\n",
    "        if j =='2' and flag21==False:\n",
    "            flag21=True\n",
    "        if j =='0'and flag0==False:\n",
    "            flag0=True\n",
    "        if j=='2'and flag21 and flag22==False:\n",
    "            flag22=True\n",
    "        if j =='3'and flag3==False:\n",
    "            flag3=True\n",
    "    if flag3 and flag0 and flag21 and flag22:\n",
    "        count+=1\n",
    "print(count)"
   ]
  },
  {
   "cell_type": "code",
   "execution_count": 3,
   "metadata": {},
   "outputs": [
    {
     "name": "stdout",
     "output_type": "stream",
     "text": [
      "85959030\n"
     ]
    }
   ],
   "source": [
    "from itertools import combinations\n",
    "\n",
    "ans=0\n",
    "for i in range(12345678,98765433):\n",
    "    if str(i).count('2')>=2 and str(i).count('0')!=0 and str(i).count('3')!=0:\n",
    "        for j in combinations(str(i),4):\n",
    "            if ''.join(j)=='2023':\n",
    "                ans+=1\n",
    "                break\n",
    "print(98765433-12345678-ans)"
   ]
  },
  {
   "cell_type": "markdown",
   "metadata": {},
   "source": [
    "##T.B\n",
    "\n",
    "1011"
   ]
  },
  {
   "cell_type": "code",
   "execution_count": null,
   "metadata": {},
   "outputs": [],
   "source": [
    "#T.C\n"
   ]
  },
  {
   "cell_type": "code",
   "execution_count": null,
   "metadata": {},
   "outputs": [],
   "source": [
    "#T.D\n"
   ]
  }
 ],
 "metadata": {
  "kernelspec": {
   "display_name": "Python 3",
   "language": "python",
   "name": "python3"
  },
  "language_info": {
   "codemirror_mode": {
    "name": "ipython",
    "version": 3
   },
   "file_extension": ".py",
   "mimetype": "text/x-python",
   "name": "python",
   "nbconvert_exporter": "python",
   "pygments_lexer": "ipython3",
   "version": "3.12.0"
  }
 },
 "nbformat": 4,
 "nbformat_minor": 2
}
